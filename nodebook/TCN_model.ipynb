{
 "cells": [
  {
   "cell_type": "code",
   "execution_count": 1,
   "metadata": {},
   "outputs": [
    {
     "name": "stdout",
     "output_type": "stream",
     "text": [
      "WARNING:tensorflow:From c:\\Users\\admin\\AppData\\Local\\Programs\\Python\\Python310\\lib\\site-packages\\keras\\src\\losses.py:2976: The name tf.losses.sparse_softmax_cross_entropy is deprecated. Please use tf.compat.v1.losses.sparse_softmax_cross_entropy instead.\n",
      "\n"
     ]
    }
   ],
   "source": [
    "import numpy as np\n",
    "from pyspark.sql import SparkSession\n",
    "from pyspark.sql import functions as f\n",
    "\n",
    "import tensorflow as tf\n",
    "from tensorflow.keras.models import Sequential\n",
    "from tensorflow.keras.layers import Conv1D, Dense, Flatten\n",
    "from tensorflowonspark import TFCluster\n",
    "from sklearn.preprocessing import MinMaxScaler\n",
    "\n",
    "import os.path\n",
    "from os import path\n",
    "\n",
    "\n",
    "# Khởi tạo Spark Session\n",
    "spark = SparkSession.builder.appName(\"kafka\").getOrCreate()\n",
    "sc = spark.sparkContext\n",
    "# Tạo DataFrame mẫu\n",
    "train_data = spark.read.csv(\"../data/train_data.csv\", inferSchema=True, header=True)\n",
    "test_data = spark.read.csv(\"../data/test_data.csv\", inferSchema=True, header=True)\n"
   ]
  },
  {
   "cell_type": "code",
   "execution_count": 2,
   "metadata": {},
   "outputs": [],
   "source": [
    "# Tao du lieu train, X = 60 time steps, Y =  1 time step\n",
    "def pre_process(data, data_scaled):\n",
    "    X=[]\n",
    "    y=[]\n",
    "    no_of_sample = len(data)\n",
    "\n",
    "    for i in range(60, no_of_sample):\n",
    "        X.append(data_scaled[i-60:i, 0])\n",
    "        y.append(data_scaled[i, 0])\n",
    "\n",
    "    X, y = np.array(X), np.array(y)\n",
    "\n",
    "    X = np.reshape(X, (X.shape[0], X.shape[1], 1))\n",
    "    \n",
    "    return X, y"
   ]
  },
  {
   "cell_type": "code",
   "execution_count": 3,
   "metadata": {},
   "outputs": [],
   "source": [
    "def init_model():\n",
    "    model = Sequential([\n",
    "        Conv1D(filters=64, kernel_size=3, activation='relu', input_shape=(60, 1)),\n",
    "        Conv1D(filters=64, kernel_size=3, activation='relu'),\n",
    "        Flatten(),\n",
    "        Dense(1)  # Output layer, có thể điều chỉnh theo yêu cầu\n",
    "    ])\n",
    "    model.compile(optimizer='adam', loss='mean_squared_error')\n",
    "    return model"
   ]
  },
  {
   "cell_type": "code",
   "execution_count": 4,
   "metadata": {},
   "outputs": [],
   "source": [
    "training_set = train_data.select(\"close\").toPandas().values\n",
    "# Thuc hien scale du lieu gia ve khoang 0,1\n",
    "scaler = MinMaxScaler(feature_range = (0, 1))\n",
    "training_set_scaled = scaler.fit_transform(training_set)"
   ]
  },
  {
   "cell_type": "code",
   "execution_count": 5,
   "metadata": {},
   "outputs": [],
   "source": [
    "X_train, y_train = pre_process(training_set, training_set_scaled)"
   ]
  },
  {
   "cell_type": "code",
   "execution_count": 6,
   "metadata": {},
   "outputs": [],
   "source": [
    "test_set = test_data.select(\"close\").toPandas().values\n",
    "test_set_scaled = scaler.transform(test_set)\n",
    "\n",
    "X_val, y_val = pre_process(test_set, test_set_scaled)"
   ]
  },
  {
   "cell_type": "code",
   "execution_count": 7,
   "metadata": {},
   "outputs": [
    {
     "name": "stdout",
     "output_type": "stream",
     "text": [
      "WARNING:tensorflow:From c:\\Users\\admin\\AppData\\Local\\Programs\\Python\\Python310\\lib\\site-packages\\keras\\src\\backend.py:873: The name tf.get_default_graph is deprecated. Please use tf.compat.v1.get_default_graph instead.\n",
      "\n"
     ]
    },
    {
     "name": "stderr",
     "output_type": "stream",
     "text": [
      "2024-02-16 14:27:52,243 WARNING (MainThread-15324) From c:\\Users\\admin\\AppData\\Local\\Programs\\Python\\Python310\\lib\\site-packages\\keras\\src\\backend.py:873: The name tf.get_default_graph is deprecated. Please use tf.compat.v1.get_default_graph instead.\n",
      "\n"
     ]
    },
    {
     "name": "stdout",
     "output_type": "stream",
     "text": [
      "WARNING:tensorflow:From c:\\Users\\admin\\AppData\\Local\\Programs\\Python\\Python310\\lib\\site-packages\\keras\\src\\optimizers\\__init__.py:309: The name tf.train.Optimizer is deprecated. Please use tf.compat.v1.train.Optimizer instead.\n",
      "\n"
     ]
    },
    {
     "name": "stderr",
     "output_type": "stream",
     "text": [
      "2024-02-16 14:27:52,430 WARNING (MainThread-15324) From c:\\Users\\admin\\AppData\\Local\\Programs\\Python\\Python310\\lib\\site-packages\\keras\\src\\optimizers\\__init__.py:309: The name tf.train.Optimizer is deprecated. Please use tf.compat.v1.train.Optimizer instead.\n",
      "\n"
     ]
    },
    {
     "name": "stdout",
     "output_type": "stream",
     "text": [
      "Epoch 1/100\n",
      "WARNING:tensorflow:From c:\\Users\\admin\\AppData\\Local\\Programs\\Python\\Python310\\lib\\site-packages\\keras\\src\\utils\\tf_utils.py:492: The name tf.ragged.RaggedTensorValue is deprecated. Please use tf.compat.v1.ragged.RaggedTensorValue instead.\n",
      "\n"
     ]
    },
    {
     "name": "stderr",
     "output_type": "stream",
     "text": [
      "2024-02-16 14:27:52,722 WARNING (MainThread-15324) From c:\\Users\\admin\\AppData\\Local\\Programs\\Python\\Python310\\lib\\site-packages\\keras\\src\\utils\\tf_utils.py:492: The name tf.ragged.RaggedTensorValue is deprecated. Please use tf.compat.v1.ragged.RaggedTensorValue instead.\n",
      "\n"
     ]
    },
    {
     "name": "stdout",
     "output_type": "stream",
     "text": [
      "77/77 [==============================] - 1s 6ms/step - loss: 0.0102 - val_loss: 0.0042\n",
      "Epoch 2/100\n",
      "77/77 [==============================] - 0s 3ms/step - loss: 0.0019 - val_loss: 0.0031\n",
      "Epoch 3/100\n",
      "77/77 [==============================] - 0s 3ms/step - loss: 0.0016 - val_loss: 0.0030\n",
      "Epoch 4/100\n",
      "77/77 [==============================] - 0s 3ms/step - loss: 0.0013 - val_loss: 0.0029\n",
      "Epoch 5/100\n",
      "77/77 [==============================] - 0s 4ms/step - loss: 0.0011 - val_loss: 0.0025\n",
      "Epoch 6/100\n",
      "77/77 [==============================] - 0s 3ms/step - loss: 9.3049e-04 - val_loss: 0.0019\n",
      "Epoch 7/100\n",
      "77/77 [==============================] - 0s 3ms/step - loss: 9.3955e-04 - val_loss: 0.0018\n",
      "Epoch 8/100\n",
      "77/77 [==============================] - 0s 3ms/step - loss: 7.1748e-04 - val_loss: 0.0016\n",
      "Epoch 9/100\n",
      "77/77 [==============================] - 0s 5ms/step - loss: 8.4165e-04 - val_loss: 0.0010\n",
      "Epoch 10/100\n",
      "77/77 [==============================] - 0s 4ms/step - loss: 6.8554e-04 - val_loss: 0.0019\n",
      "Epoch 11/100\n",
      "77/77 [==============================] - 0s 3ms/step - loss: 8.9917e-04 - val_loss: 8.2007e-04\n",
      "Epoch 12/100\n",
      "77/77 [==============================] - 0s 3ms/step - loss: 5.7624e-04 - val_loss: 7.2903e-04\n",
      "Epoch 13/100\n",
      "77/77 [==============================] - 0s 3ms/step - loss: 5.6794e-04 - val_loss: 8.1549e-04\n",
      "Epoch 14/100\n",
      "77/77 [==============================] - 0s 3ms/step - loss: 5.4355e-04 - val_loss: 9.9591e-04\n",
      "Epoch 15/100\n",
      "77/77 [==============================] - 0s 3ms/step - loss: 5.1504e-04 - val_loss: 5.7210e-04\n",
      "Epoch 16/100\n",
      "77/77 [==============================] - 0s 3ms/step - loss: 5.0639e-04 - val_loss: 5.3708e-04\n",
      "Epoch 17/100\n",
      "77/77 [==============================] - 0s 3ms/step - loss: 5.3952e-04 - val_loss: 5.3876e-04\n",
      "Epoch 18/100\n",
      "77/77 [==============================] - 0s 3ms/step - loss: 4.9186e-04 - val_loss: 0.0012\n",
      "Epoch 19/100\n",
      "77/77 [==============================] - 0s 3ms/step - loss: 4.3631e-04 - val_loss: 7.6778e-04\n",
      "Epoch 20/100\n",
      "77/77 [==============================] - 0s 4ms/step - loss: 3.9982e-04 - val_loss: 5.2444e-04\n",
      "Epoch 21/100\n",
      "77/77 [==============================] - 0s 4ms/step - loss: 3.8263e-04 - val_loss: 5.4651e-04\n",
      "Epoch 22/100\n",
      "77/77 [==============================] - 0s 4ms/step - loss: 4.5380e-04 - val_loss: 6.1855e-04\n",
      "Epoch 23/100\n",
      "77/77 [==============================] - 0s 3ms/step - loss: 3.6700e-04 - val_loss: 5.2043e-04\n",
      "Epoch 24/100\n",
      "77/77 [==============================] - 0s 3ms/step - loss: 3.3793e-04 - val_loss: 8.3664e-04\n",
      "Epoch 25/100\n",
      "77/77 [==============================] - 0s 4ms/step - loss: 4.0211e-04 - val_loss: 4.0989e-04\n",
      "Epoch 26/100\n",
      "77/77 [==============================] - 0s 3ms/step - loss: 3.0271e-04 - val_loss: 0.0011\n",
      "Epoch 27/100\n",
      "77/77 [==============================] - 0s 3ms/step - loss: 4.0481e-04 - val_loss: 5.2311e-04\n",
      "Epoch 28/100\n",
      "77/77 [==============================] - 0s 3ms/step - loss: 3.6749e-04 - val_loss: 3.3961e-04\n",
      "Epoch 29/100\n",
      "77/77 [==============================] - 0s 3ms/step - loss: 3.5620e-04 - val_loss: 5.2806e-04\n",
      "Epoch 30/100\n",
      "77/77 [==============================] - 0s 3ms/step - loss: 2.7737e-04 - val_loss: 2.8232e-04\n",
      "Epoch 31/100\n",
      "77/77 [==============================] - 0s 3ms/step - loss: 2.8113e-04 - val_loss: 3.7929e-04\n",
      "Epoch 32/100\n",
      "77/77 [==============================] - 0s 3ms/step - loss: 4.9989e-04 - val_loss: 6.2223e-04\n",
      "Epoch 33/100\n",
      "77/77 [==============================] - 0s 3ms/step - loss: 2.4643e-04 - val_loss: 2.8031e-04\n",
      "Epoch 34/100\n",
      "77/77 [==============================] - 0s 3ms/step - loss: 2.6020e-04 - val_loss: 2.8044e-04\n",
      "Epoch 35/100\n",
      "77/77 [==============================] - 0s 3ms/step - loss: 2.3163e-04 - val_loss: 4.2515e-04\n",
      "Epoch 36/100\n",
      "77/77 [==============================] - 0s 3ms/step - loss: 2.4983e-04 - val_loss: 4.2052e-04\n",
      "Epoch 37/100\n",
      "77/77 [==============================] - 0s 4ms/step - loss: 2.1579e-04 - val_loss: 4.5301e-04\n",
      "Epoch 38/100\n",
      "77/77 [==============================] - 0s 3ms/step - loss: 2.4849e-04 - val_loss: 3.1241e-04\n",
      "Epoch 39/100\n",
      "77/77 [==============================] - 0s 4ms/step - loss: 2.3615e-04 - val_loss: 2.3465e-04\n",
      "Epoch 40/100\n",
      "77/77 [==============================] - 0s 3ms/step - loss: 2.3536e-04 - val_loss: 5.8360e-04\n",
      "Epoch 41/100\n",
      "77/77 [==============================] - 0s 3ms/step - loss: 2.4947e-04 - val_loss: 2.1258e-04\n",
      "Epoch 42/100\n",
      "77/77 [==============================] - 0s 3ms/step - loss: 3.0135e-04 - val_loss: 5.5714e-04\n",
      "Epoch 43/100\n",
      "77/77 [==============================] - 0s 3ms/step - loss: 2.0200e-04 - val_loss: 2.3563e-04\n",
      "Epoch 44/100\n",
      "77/77 [==============================] - 0s 3ms/step - loss: 2.0374e-04 - val_loss: 3.4713e-04\n",
      "Epoch 45/100\n",
      "77/77 [==============================] - 0s 3ms/step - loss: 2.2592e-04 - val_loss: 2.3308e-04\n",
      "Epoch 46/100\n",
      "77/77 [==============================] - 0s 4ms/step - loss: 1.8249e-04 - val_loss: 3.9804e-04\n",
      "Epoch 47/100\n",
      "77/77 [==============================] - 0s 4ms/step - loss: 2.6537e-04 - val_loss: 1.9260e-04\n",
      "Epoch 48/100\n",
      "77/77 [==============================] - 0s 4ms/step - loss: 2.4417e-04 - val_loss: 2.4801e-04\n",
      "Epoch 49/100\n",
      "77/77 [==============================] - 0s 3ms/step - loss: 1.8331e-04 - val_loss: 1.7358e-04\n",
      "Epoch 50/100\n",
      "77/77 [==============================] - 0s 3ms/step - loss: 2.4802e-04 - val_loss: 2.5348e-04\n",
      "Epoch 51/100\n",
      "77/77 [==============================] - 0s 4ms/step - loss: 1.7256e-04 - val_loss: 3.4586e-04\n",
      "Epoch 52/100\n",
      "77/77 [==============================] - 0s 6ms/step - loss: 1.9087e-04 - val_loss: 3.0379e-04\n",
      "Epoch 53/100\n",
      "77/77 [==============================] - 0s 5ms/step - loss: 2.5714e-04 - val_loss: 1.9633e-04\n",
      "Epoch 54/100\n",
      "77/77 [==============================] - 0s 5ms/step - loss: 1.8339e-04 - val_loss: 1.9655e-04\n",
      "Epoch 55/100\n",
      "77/77 [==============================] - 0s 5ms/step - loss: 1.7920e-04 - val_loss: 1.9460e-04\n",
      "Epoch 56/100\n",
      "77/77 [==============================] - 0s 5ms/step - loss: 1.8614e-04 - val_loss: 1.5973e-04\n",
      "Epoch 57/100\n",
      "77/77 [==============================] - 0s 5ms/step - loss: 1.5794e-04 - val_loss: 1.4758e-04\n",
      "Epoch 58/100\n",
      "77/77 [==============================] - 0s 5ms/step - loss: 2.0221e-04 - val_loss: 2.1275e-04\n",
      "Epoch 59/100\n",
      "77/77 [==============================] - 0s 4ms/step - loss: 2.0526e-04 - val_loss: 7.7381e-04\n",
      "Epoch 60/100\n",
      "77/77 [==============================] - 0s 4ms/step - loss: 2.8534e-04 - val_loss: 2.4208e-04\n",
      "Epoch 61/100\n",
      "77/77 [==============================] - 0s 5ms/step - loss: 1.9973e-04 - val_loss: 1.8636e-04\n",
      "Epoch 62/100\n",
      "77/77 [==============================] - 0s 4ms/step - loss: 2.6687e-04 - val_loss: 3.3554e-04\n",
      "Epoch 63/100\n",
      "77/77 [==============================] - 0s 4ms/step - loss: 1.8236e-04 - val_loss: 1.6444e-04\n",
      "Epoch 64/100\n",
      "77/77 [==============================] - 0s 4ms/step - loss: 1.8616e-04 - val_loss: 2.4031e-04\n",
      "Epoch 65/100\n",
      "77/77 [==============================] - 0s 4ms/step - loss: 1.7163e-04 - val_loss: 2.7292e-04\n",
      "Epoch 66/100\n",
      "77/77 [==============================] - 0s 3ms/step - loss: 1.7504e-04 - val_loss: 1.4043e-04\n",
      "Epoch 67/100\n",
      "77/77 [==============================] - 0s 3ms/step - loss: 1.4214e-04 - val_loss: 2.4252e-04\n",
      "Epoch 68/100\n",
      "77/77 [==============================] - 0s 3ms/step - loss: 1.5750e-04 - val_loss: 2.0026e-04\n",
      "Epoch 69/100\n",
      "77/77 [==============================] - 0s 3ms/step - loss: 1.7473e-04 - val_loss: 2.2444e-04\n",
      "Epoch 70/100\n",
      "77/77 [==============================] - 0s 4ms/step - loss: 1.4697e-04 - val_loss: 1.5949e-04\n",
      "Epoch 71/100\n",
      "77/77 [==============================] - 0s 4ms/step - loss: 1.6855e-04 - val_loss: 1.4867e-04\n",
      "Epoch 72/100\n",
      "77/77 [==============================] - 0s 4ms/step - loss: 1.7128e-04 - val_loss: 1.4358e-04\n",
      "Epoch 73/100\n",
      "77/77 [==============================] - 0s 4ms/step - loss: 1.7079e-04 - val_loss: 1.4205e-04\n",
      "Epoch 74/100\n",
      "77/77 [==============================] - 0s 4ms/step - loss: 2.9029e-04 - val_loss: 1.4562e-04\n",
      "Epoch 75/100\n",
      "77/77 [==============================] - 0s 4ms/step - loss: 1.6633e-04 - val_loss: 2.4597e-04\n",
      "Epoch 76/100\n",
      "77/77 [==============================] - 0s 4ms/step - loss: 1.5291e-04 - val_loss: 1.8573e-04\n",
      "Epoch 77/100\n",
      "77/77 [==============================] - 0s 4ms/step - loss: 1.5697e-04 - val_loss: 1.6095e-04\n",
      "Epoch 78/100\n",
      "77/77 [==============================] - 0s 4ms/step - loss: 2.2143e-04 - val_loss: 1.4852e-04\n",
      "Epoch 79/100\n",
      "77/77 [==============================] - 0s 4ms/step - loss: 1.6995e-04 - val_loss: 1.4373e-04\n",
      "Epoch 80/100\n",
      "77/77 [==============================] - 0s 3ms/step - loss: 1.6220e-04 - val_loss: 1.8755e-04\n",
      "Epoch 81/100\n",
      "77/77 [==============================] - 0s 4ms/step - loss: 1.4968e-04 - val_loss: 2.0314e-04\n",
      "Epoch 82/100\n",
      "77/77 [==============================] - 0s 5ms/step - loss: 1.7576e-04 - val_loss: 2.2061e-04\n",
      "Epoch 83/100\n",
      "77/77 [==============================] - 0s 5ms/step - loss: 1.7107e-04 - val_loss: 3.0748e-04\n",
      "Epoch 84/100\n",
      "77/77 [==============================] - 0s 6ms/step - loss: 2.0979e-04 - val_loss: 1.7049e-04\n",
      "Epoch 85/100\n",
      "77/77 [==============================] - 0s 5ms/step - loss: 1.4347e-04 - val_loss: 2.2243e-04\n",
      "Epoch 86/100\n",
      "77/77 [==============================] - 0s 5ms/step - loss: 2.2538e-04 - val_loss: 1.7125e-04\n",
      "Epoch 87/100\n",
      "77/77 [==============================] - 0s 4ms/step - loss: 1.6685e-04 - val_loss: 2.4943e-04\n",
      "Epoch 88/100\n",
      "77/77 [==============================] - 0s 4ms/step - loss: 1.6631e-04 - val_loss: 2.3891e-04\n",
      "Epoch 89/100\n",
      "77/77 [==============================] - 0s 4ms/step - loss: 1.9379e-04 - val_loss: 2.2912e-04\n",
      "Epoch 90/100\n",
      "77/77 [==============================] - 0s 4ms/step - loss: 1.9587e-04 - val_loss: 1.8718e-04\n",
      "Epoch 91/100\n",
      "77/77 [==============================] - 0s 4ms/step - loss: 1.8183e-04 - val_loss: 1.6598e-04\n",
      "Epoch 92/100\n",
      "77/77 [==============================] - 0s 4ms/step - loss: 1.7070e-04 - val_loss: 1.4847e-04\n",
      "Epoch 93/100\n",
      "77/77 [==============================] - 0s 4ms/step - loss: 1.6543e-04 - val_loss: 1.4302e-04\n",
      "Epoch 94/100\n",
      "77/77 [==============================] - 0s 4ms/step - loss: 1.5321e-04 - val_loss: 1.9881e-04\n",
      "Epoch 95/100\n",
      "77/77 [==============================] - 0s 4ms/step - loss: 1.6233e-04 - val_loss: 1.3596e-04\n",
      "Epoch 96/100\n",
      "77/77 [==============================] - 0s 4ms/step - loss: 1.5418e-04 - val_loss: 2.5350e-04\n",
      "Epoch 97/100\n",
      "77/77 [==============================] - 0s 3ms/step - loss: 1.9708e-04 - val_loss: 2.1264e-04\n",
      "Epoch 98/100\n",
      "77/77 [==============================] - 0s 3ms/step - loss: 1.6109e-04 - val_loss: 1.8388e-04\n",
      "Epoch 99/100\n",
      "77/77 [==============================] - 0s 3ms/step - loss: 1.5808e-04 - val_loss: 2.2054e-04\n",
      "Epoch 100/100\n",
      "77/77 [==============================] - 0s 3ms/step - loss: 2.7093e-04 - val_loss: 3.1211e-04\n"
     ]
    },
    {
     "data": {
      "text/plain": [
       "<keras.src.callbacks.History at 0x26d391dbe50>"
      ]
     },
     "execution_count": 7,
     "metadata": {},
     "output_type": "execute_result"
    }
   ],
   "source": [
    "model = init_model()\n",
    "\n",
    "model.fit(X_train, y_train, epochs=100, batch_size=32, validation_data=(X_val, y_val))"
   ]
  },
  {
   "cell_type": "code",
   "execution_count": 30,
   "metadata": {},
   "outputs": [
    {
     "name": "stderr",
     "output_type": "stream",
     "text": [
      "c:\\Users\\admin\\AppData\\Local\\Programs\\Python\\Python310\\lib\\site-packages\\keras\\src\\engine\\training.py:3103: UserWarning: You are saving your model as an HDF5 file via `model.save()`. This file format is considered legacy. We recommend using instead the native Keras format, e.g. `model.save('my_model.keras')`.\n",
      "  saving_api.save_model(\n"
     ]
    }
   ],
   "source": [
    "model.save(\"../model/TCN_model.h5\")"
   ]
  },
  {
   "cell_type": "code",
   "execution_count": null,
   "metadata": {},
   "outputs": [],
   "source": [
    "# model = init_model()\n",
    "# model.load_weights(\"../model/TCN_model.h5\")"
   ]
  },
  {
   "cell_type": "code",
   "execution_count": 8,
   "metadata": {},
   "outputs": [
    {
     "name": "stdout",
     "output_type": "stream",
     "text": [
      "6/6 [==============================] - 0s 2ms/step\n"
     ]
    }
   ],
   "source": [
    "predictions = model.predict(X_val)"
   ]
  },
  {
   "cell_type": "code",
   "execution_count": 39,
   "metadata": {},
   "outputs": [
    {
     "data": {
      "image/png": "[encoded data removed]",
      "text/plain": [
       "<Figure size 640x480 with 1 Axes>"
      ]
     },
     "metadata": {},
     "output_type": "display_data"
    }
   ],
   "source": [
    "import matplotlib.pyplot as plt\n",
    "\n",
    "# Ve bieu do gia that va gia du doan\n",
    "plt.plot(scaler.inverse_transform([[x] for x in y_val]), color = 'red', label = 'Real Stock Price')\n",
    "plt.plot(scaler.inverse_transform(np.array(predictions)), color = 'blue', label = 'Predicted Stock Price')\n",
    "plt.title('Stock Price Prediction (TCN model)')\n",
    "plt.xlabel('Time')\n",
    "plt.ylabel('Stock Price')\n",
    "plt.legend()\n",
    "plt.savefig('../static/tcn_result.jpg')\n",
    "plt.show()\n"
   ]
  },
  {
   "cell_type": "code",
   "execution_count": null,
   "metadata": {},
   "outputs": [],
   "source": []
  },
  {
   "cell_type": "code",
   "execution_count": null,
   "metadata": {},
   "outputs": [],
   "source": []
  },
  {
   "cell_type": "code",
   "execution_count": null,
   "metadata": {},
   "outputs": [],
   "source": []
  },
  {
   "cell_type": "markdown",
   "metadata": {},
   "source": [
    "## test"
   ]
  },
  {
   "cell_type": "code",
   "execution_count": 13,
   "metadata": {},
   "outputs": [],
   "source": [
    "from keras.models import Sequential\n",
    "from tcn import TCN\n",
    "from keras.layers import Dense"
   ]
  },
  {
   "cell_type": "code",
   "execution_count": 25,
   "metadata": {},
   "outputs": [],
   "source": [
    "model = Sequential([\n",
    "    TCN(input_shape=(60, 1)),\n",
    "    Dense(units=1, activation='softmax')\n",
    "])"
   ]
  },
  {
   "cell_type": "code",
   "execution_count": 26,
   "metadata": {},
   "outputs": [],
   "source": [
    "model.compile(optimizer='adam', loss='mean_squared_error')"
   ]
  },
  {
   "cell_type": "code",
   "execution_count": 27,
   "metadata": {},
   "outputs": [
    {
     "name": "stdout",
     "output_type": "stream",
     "text": [
      "Epoch 1/100\n",
      "77/77 [==============================] - 4s 28ms/step - loss: 2.7753 - val_loss: 0.0109\n",
      "Epoch 2/100\n",
      "77/77 [==============================] - 2s 25ms/step - loss: 0.0053 - val_loss: 0.0118\n",
      "Epoch 3/100\n",
      "77/77 [==============================] - 2s 25ms/step - loss: 0.0048 - val_loss: 0.0069\n",
      "Epoch 4/100\n",
      "77/77 [==============================] - 2s 26ms/step - loss: 0.0051 - val_loss: 0.0060\n",
      "Epoch 5/100\n",
      "77/77 [==============================] - 2s 24ms/step - loss: 0.0037 - val_loss: 0.0055\n",
      "Epoch 6/100\n",
      "77/77 [==============================] - 2s 24ms/step - loss: 0.0040 - val_loss: 0.0041\n",
      "Epoch 7/100\n",
      "77/77 [==============================] - 2s 27ms/step - loss: 0.0021 - val_loss: 0.0044\n",
      "Epoch 8/100\n",
      "77/77 [==============================] - 2s 29ms/step - loss: 0.0029 - val_loss: 0.0028\n",
      "Epoch 9/100\n",
      "77/77 [==============================] - 2s 26ms/step - loss: 0.0022 - val_loss: 0.0033\n",
      "Epoch 10/100\n",
      "77/77 [==============================] - 3s 44ms/step - loss: 0.0024 - val_loss: 0.0022\n",
      "Epoch 11/100\n",
      "77/77 [==============================] - 7s 92ms/step - loss: 0.0022 - val_loss: 0.0045\n",
      "Epoch 12/100\n",
      "77/77 [==============================] - 2s 23ms/step - loss: 0.0021 - val_loss: 0.0017\n",
      "Epoch 13/100\n",
      "77/77 [==============================] - 2s 26ms/step - loss: 0.0021 - val_loss: 0.0016\n",
      "Epoch 14/100\n",
      "77/77 [==============================] - 2s 24ms/step - loss: 0.0027 - val_loss: 0.0018\n",
      "Epoch 15/100\n",
      "77/77 [==============================] - 2s 26ms/step - loss: 0.0022 - val_loss: 0.0054\n",
      "Epoch 16/100\n",
      "77/77 [==============================] - 2s 26ms/step - loss: 0.0024 - val_loss: 0.0019\n",
      "Epoch 17/100\n",
      "77/77 [==============================] - 2s 26ms/step - loss: 0.0016 - val_loss: 0.0012\n",
      "Epoch 18/100\n",
      "77/77 [==============================] - 2s 27ms/step - loss: 0.0010 - val_loss: 0.0016\n",
      "Epoch 19/100\n",
      "77/77 [==============================] - 2s 27ms/step - loss: 7.6273e-04 - val_loss: 0.0027\n",
      "Epoch 20/100\n",
      "77/77 [==============================] - 2s 25ms/step - loss: 0.0021 - val_loss: 0.0028\n",
      "Epoch 21/100\n",
      "77/77 [==============================] - 2s 24ms/step - loss: 0.0041 - val_loss: 0.0028\n",
      "Epoch 22/100\n",
      "77/77 [==============================] - 2s 27ms/step - loss: 0.0061 - val_loss: 0.0014\n",
      "Epoch 23/100\n",
      "77/77 [==============================] - 2s 28ms/step - loss: 8.0641e-04 - val_loss: 9.1864e-04\n",
      "Epoch 24/100\n",
      "77/77 [==============================] - 2s 28ms/step - loss: 0.0015 - val_loss: 0.0164\n",
      "Epoch 25/100\n",
      "77/77 [==============================] - 2s 27ms/step - loss: 0.0044 - val_loss: 8.5360e-04\n",
      "Epoch 26/100\n",
      "77/77 [==============================] - 2s 25ms/step - loss: 0.0022 - val_loss: 0.0010\n",
      "Epoch 27/100\n",
      "77/77 [==============================] - 2s 26ms/step - loss: 7.1165e-04 - val_loss: 0.0015\n",
      "Epoch 28/100\n",
      "77/77 [==============================] - 2s 27ms/step - loss: 0.0016 - val_loss: 0.0017\n",
      "Epoch 29/100\n",
      "77/77 [==============================] - 2s 27ms/step - loss: 0.0018 - val_loss: 0.0012\n",
      "Epoch 30/100\n",
      "77/77 [==============================] - 2s 23ms/step - loss: 5.0591e-04 - val_loss: 0.0011\n",
      "Epoch 31/100\n",
      "77/77 [==============================] - 2s 24ms/step - loss: 5.4475e-04 - val_loss: 9.9120e-04\n",
      "Epoch 32/100\n",
      "77/77 [==============================] - 2s 28ms/step - loss: 3.6498e-04 - val_loss: 5.6424e-04\n",
      "Epoch 33/100\n",
      "77/77 [==============================] - 2s 24ms/step - loss: 3.5509e-04 - val_loss: 0.0015\n",
      "Epoch 34/100\n",
      "77/77 [==============================] - 2s 25ms/step - loss: 0.0020 - val_loss: 0.0067\n",
      "Epoch 35/100\n",
      "77/77 [==============================] - 2s 24ms/step - loss: 0.0057 - val_loss: 5.1999e-04\n",
      "Epoch 36/100\n",
      "77/77 [==============================] - 2s 23ms/step - loss: 5.8476e-04 - val_loss: 9.0291e-04\n",
      "Epoch 37/100\n",
      "77/77 [==============================] - 2s 26ms/step - loss: 6.4512e-04 - val_loss: 0.0014\n",
      "Epoch 38/100\n",
      "77/77 [==============================] - 2s 27ms/step - loss: 5.2580e-04 - val_loss: 5.8103e-04\n",
      "Epoch 39/100\n",
      "77/77 [==============================] - 2s 26ms/step - loss: 3.8237e-04 - val_loss: 4.2750e-04\n",
      "Epoch 40/100\n",
      "77/77 [==============================] - 2s 26ms/step - loss: 5.7402e-04 - val_loss: 0.0015\n",
      "Epoch 41/100\n",
      "77/77 [==============================] - 2s 25ms/step - loss: 0.0024 - val_loss: 7.9090e-04\n",
      "Epoch 42/100\n",
      "77/77 [==============================] - 2s 28ms/step - loss: 6.3524e-04 - val_loss: 4.6743e-04\n",
      "Epoch 43/100\n",
      "77/77 [==============================] - 2s 28ms/step - loss: 9.2720e-04 - val_loss: 4.4603e-04\n",
      "Epoch 44/100\n",
      "77/77 [==============================] - 2s 27ms/step - loss: 8.3861e-04 - val_loss: 9.4347e-04\n",
      "Epoch 45/100\n",
      "77/77 [==============================] - 4s 48ms/step - loss: 0.0051 - val_loss: 4.8117e-04\n",
      "Epoch 46/100\n",
      "77/77 [==============================] - 15s 197ms/step - loss: 6.7354e-04 - val_loss: 0.0012\n",
      "Epoch 47/100\n",
      "77/77 [==============================] - 6s 71ms/step - loss: 4.1920e-04 - val_loss: 9.8045e-04\n",
      "Epoch 48/100\n",
      "77/77 [==============================] - 2s 25ms/step - loss: 6.7575e-04 - val_loss: 7.0204e-04\n",
      "Epoch 49/100\n",
      "77/77 [==============================] - 2s 24ms/step - loss: 4.4043e-04 - val_loss: 8.7092e-04\n",
      "Epoch 50/100\n",
      "77/77 [==============================] - 2s 25ms/step - loss: 8.4530e-04 - val_loss: 9.5951e-04\n",
      "Epoch 51/100\n",
      "77/77 [==============================] - 2s 25ms/step - loss: 6.8632e-04 - val_loss: 0.0035\n",
      "Epoch 52/100\n",
      "77/77 [==============================] - 2s 24ms/step - loss: 8.2923e-04 - val_loss: 0.0023\n",
      "Epoch 53/100\n",
      "77/77 [==============================] - 2s 24ms/step - loss: 0.0017 - val_loss: 3.4218e-04\n",
      "Epoch 54/100\n",
      "77/77 [==============================] - 2s 26ms/step - loss: 2.6091e-04 - val_loss: 9.5398e-04\n",
      "Epoch 55/100\n",
      "77/77 [==============================] - 2s 25ms/step - loss: 5.1676e-04 - val_loss: 6.3225e-04\n",
      "Epoch 56/100\n",
      "77/77 [==============================] - 2s 27ms/step - loss: 0.0014 - val_loss: 6.8880e-04\n",
      "Epoch 57/100\n",
      "77/77 [==============================] - 2s 28ms/step - loss: 6.2457e-04 - val_loss: 3.0919e-04\n",
      "Epoch 58/100\n",
      "77/77 [==============================] - 4s 50ms/step - loss: 0.0012 - val_loss: 9.4358e-04\n",
      "Epoch 59/100\n",
      "77/77 [==============================] - 15s 197ms/step - loss: 0.0012 - val_loss: 6.5619e-04\n",
      "Epoch 60/100\n",
      "77/77 [==============================] - 20s 257ms/step - loss: 9.3704e-04 - val_loss: 3.3009e-04\n",
      "Epoch 61/100\n",
      "77/77 [==============================] - 6s 78ms/step - loss: 7.9590e-04 - val_loss: 0.0026\n",
      "Epoch 62/100\n",
      "77/77 [==============================] - 2s 27ms/step - loss: 9.9423e-04 - val_loss: 4.4644e-04\n",
      "Epoch 63/100\n",
      "77/77 [==============================] - 2s 28ms/step - loss: 9.3194e-04 - val_loss: 6.3941e-04\n",
      "Epoch 64/100\n",
      "77/77 [==============================] - 2s 23ms/step - loss: 5.1115e-04 - val_loss: 4.2258e-04\n",
      "Epoch 65/100\n",
      "77/77 [==============================] - 2s 28ms/step - loss: 5.5950e-04 - val_loss: 3.0957e-04\n",
      "Epoch 66/100\n",
      "77/77 [==============================] - 2s 26ms/step - loss: 7.0086e-04 - val_loss: 5.9746e-04\n",
      "Epoch 67/100\n",
      "77/77 [==============================] - 2s 27ms/step - loss: 3.5574e-04 - val_loss: 2.4628e-04\n",
      "Epoch 68/100\n",
      "77/77 [==============================] - 2s 26ms/step - loss: 0.0022 - val_loss: 0.0080\n",
      "Epoch 69/100\n",
      "77/77 [==============================] - 2s 25ms/step - loss: 0.0074 - val_loss: 7.6114e-04\n",
      "Epoch 70/100\n",
      "77/77 [==============================] - 2s 24ms/step - loss: 5.3277e-04 - val_loss: 4.2215e-04\n",
      "Epoch 71/100\n",
      "77/77 [==============================] - 2s 27ms/step - loss: 4.1316e-04 - val_loss: 3.8053e-04\n",
      "Epoch 72/100\n",
      "77/77 [==============================] - 2s 30ms/step - loss: 2.7595e-04 - val_loss: 4.1227e-04\n",
      "Epoch 73/100\n",
      "77/77 [==============================] - 2s 31ms/step - loss: 5.6241e-04 - val_loss: 8.2453e-04\n",
      "Epoch 74/100\n",
      "77/77 [==============================] - 2s 29ms/step - loss: 4.6076e-04 - val_loss: 4.4346e-04\n",
      "Epoch 75/100\n",
      "77/77 [==============================] - 2s 31ms/step - loss: 5.0186e-04 - val_loss: 3.7516e-04\n",
      "Epoch 76/100\n",
      "77/77 [==============================] - 3s 36ms/step - loss: 3.9698e-04 - val_loss: 8.6310e-04\n",
      "Epoch 77/100\n",
      "77/77 [==============================] - 2s 31ms/step - loss: 6.2932e-04 - val_loss: 9.6563e-04\n",
      "Epoch 78/100\n",
      "77/77 [==============================] - 2s 31ms/step - loss: 6.0261e-04 - val_loss: 5.2943e-04\n",
      "Epoch 79/100\n",
      "77/77 [==============================] - 2s 28ms/step - loss: 6.2393e-04 - val_loss: 4.7228e-04\n",
      "Epoch 80/100\n",
      "77/77 [==============================] - 3s 34ms/step - loss: 5.5410e-04 - val_loss: 4.7098e-04\n",
      "Epoch 81/100\n",
      "77/77 [==============================] - 3s 34ms/step - loss: 5.3381e-04 - val_loss: 0.0012\n",
      "Epoch 82/100\n",
      "77/77 [==============================] - 2s 32ms/step - loss: 5.9954e-04 - val_loss: 3.1472e-04\n",
      "Epoch 83/100\n",
      "77/77 [==============================] - 2s 30ms/step - loss: 3.9628e-04 - val_loss: 5.9974e-04\n",
      "Epoch 84/100\n",
      "77/77 [==============================] - 2s 29ms/step - loss: 2.9758e-04 - val_loss: 2.8544e-04\n",
      "Epoch 85/100\n",
      "77/77 [==============================] - 2s 27ms/step - loss: 4.8340e-04 - val_loss: 2.9352e-04\n",
      "Epoch 86/100\n",
      "77/77 [==============================] - 2s 26ms/step - loss: 2.2270e-04 - val_loss: 6.3811e-04\n",
      "Epoch 87/100\n",
      "77/77 [==============================] - 2s 25ms/step - loss: 4.6128e-04 - val_loss: 2.7530e-04\n",
      "Epoch 88/100\n",
      "77/77 [==============================] - 2s 32ms/step - loss: 5.8246e-04 - val_loss: 0.0019\n",
      "Epoch 89/100\n",
      "77/77 [==============================] - 3s 33ms/step - loss: 7.3546e-04 - val_loss: 0.0011\n",
      "Epoch 90/100\n",
      "77/77 [==============================] - 3s 34ms/step - loss: 7.4069e-04 - val_loss: 3.0087e-04\n",
      "Epoch 91/100\n",
      "77/77 [==============================] - 3s 33ms/step - loss: 3.8256e-04 - val_loss: 2.7366e-04\n",
      "Epoch 92/100\n",
      "77/77 [==============================] - 2s 32ms/step - loss: 9.1479e-04 - val_loss: 2.5694e-04\n",
      "Epoch 93/100\n",
      "77/77 [==============================] - 2s 32ms/step - loss: 3.2142e-04 - val_loss: 3.2904e-04\n",
      "Epoch 94/100\n",
      "77/77 [==============================] - 2s 32ms/step - loss: 0.0011 - val_loss: 2.5874e-04\n",
      "Epoch 95/100\n",
      "77/77 [==============================] - 2s 32ms/step - loss: 3.8685e-04 - val_loss: 3.2223e-04\n",
      "Epoch 96/100\n",
      "77/77 [==============================] - 3s 40ms/step - loss: 4.5288e-04 - val_loss: 2.5208e-04\n",
      "Epoch 97/100\n",
      "77/77 [==============================] - 3s 34ms/step - loss: 2.8121e-04 - val_loss: 3.0178e-04\n",
      "Epoch 98/100\n",
      "77/77 [==============================] - 3s 36ms/step - loss: 2.9453e-04 - val_loss: 9.9865e-04\n",
      "Epoch 99/100\n",
      "77/77 [==============================] - 2s 27ms/step - loss: 4.4585e-04 - val_loss: 3.4720e-04\n",
      "Epoch 100/100\n",
      "77/77 [==============================] - 2s 27ms/step - loss: 3.3140e-04 - val_loss: 0.0010\n"
     ]
    },
    {
     "data": {
      "text/plain": [
       "<keras.src.callbacks.History at 0x26d54c00eb0>"
      ]
     },
     "execution_count": 27,
     "metadata": {},
     "output_type": "execute_result"
    }
   ],
   "source": [
    "model.fit(X_train, y_train, epochs=100, batch_size=32, validation_data=(X_val, y_val))"
   ]
  },
  {
   "cell_type": "code",
   "execution_count": 28,
   "metadata": {},
   "outputs": [
    {
     "name": "stdout",
     "output_type": "stream",
     "text": [
      "6/6 [==============================] - 0s 8ms/step\n"
     ]
    }
   ],
   "source": [
    "predictions = model.predict(X_val)"
   ]
  },
  {
   "cell_type": "code",
   "execution_count": 29,
   "metadata": {},
   "outputs": [
    {
     "data": {
      "image/png": "[encoded data removed]",
      "text/plain": [
       "<Figure size 640x480 with 1 Axes>"
      ]
     },
     "metadata": {},
     "output_type": "display_data"
    }
   ],
   "source": [
    "import matplotlib.pyplot as plt\n",
    "\n",
    "# Ve bieu do gia that va gia du doan\n",
    "plt.plot(y_val, color = 'red', label = 'Real Stock Price')\n",
    "plt.plot(predictions, color = 'blue', label = 'Predicted Stock Price')\n",
    "plt.title('Stock Price Prediction (TCN model)')\n",
    "plt.xlabel('Time')\n",
    "plt.ylabel('Stock Price')\n",
    "plt.legend()\n",
    "# plt.savefig('../static/tcn_result.jpg')\n",
    "plt.show()"
   ]
  },
  {
   "cell_type": "code",
   "execution_count": null,
   "metadata": {},
   "outputs": [],
   "source": []
  },
  {
   "cell_type": "code",
   "execution_count": null,
   "metadata": {},
   "outputs": [],
   "source": []
  },
  {
   "cell_type": "code",
   "execution_count": null,
   "metadata": {},
   "outputs": [],
   "source": []
  },
  {
   "cell_type": "code",
   "execution_count": 7,
   "metadata": {},
   "outputs": [
    {
     "data": {
      "text/html": [
       "<div>\n",
       "<style scoped>\n",
       "    .dataframe tbody tr th:only-of-type {\n",
       "        vertical-align: middle;\n",
       "    }\n",
       "\n",
       "    .dataframe tbody tr th {\n",
       "        vertical-align: top;\n",
       "    }\n",
       "\n",
       "    .dataframe thead th {\n",
       "        text-align: right;\n",
       "    }\n",
       "</style>\n",
       "<table border=\"1\" class=\"dataframe\">\n",
       "  <thead>\n",
       "    <tr style=\"text-align: right;\">\n",
       "      <th></th>\n",
       "      <th>open</th>\n",
       "      <th>high</th>\n",
       "      <th>low</th>\n",
       "      <th>close</th>\n",
       "      <th>volume</th>\n",
       "    </tr>\n",
       "  </thead>\n",
       "  <tbody>\n",
       "    <tr>\n",
       "      <th>0</th>\n",
       "      <td>16876</td>\n",
       "      <td>17407</td>\n",
       "      <td>16770</td>\n",
       "      <td>16982</td>\n",
       "      <td>106720</td>\n",
       "    </tr>\n",
       "    <tr>\n",
       "      <th>1</th>\n",
       "      <td>16982</td>\n",
       "      <td>16982</td>\n",
       "      <td>16770</td>\n",
       "      <td>16982</td>\n",
       "      <td>118830</td>\n",
       "    </tr>\n",
       "    <tr>\n",
       "      <th>2</th>\n",
       "      <td>16876</td>\n",
       "      <td>17088</td>\n",
       "      <td>16770</td>\n",
       "      <td>16982</td>\n",
       "      <td>162880</td>\n",
       "    </tr>\n",
       "    <tr>\n",
       "      <th>3</th>\n",
       "      <td>17088</td>\n",
       "      <td>17831</td>\n",
       "      <td>17088</td>\n",
       "      <td>17725</td>\n",
       "      <td>370650</td>\n",
       "    </tr>\n",
       "    <tr>\n",
       "      <th>4</th>\n",
       "      <td>17937</td>\n",
       "      <td>18044</td>\n",
       "      <td>17725</td>\n",
       "      <td>17937</td>\n",
       "      <td>363210</td>\n",
       "    </tr>\n",
       "    <tr>\n",
       "      <th>...</th>\n",
       "      <td>...</td>\n",
       "      <td>...</td>\n",
       "      <td>...</td>\n",
       "      <td>...</td>\n",
       "      <td>...</td>\n",
       "    </tr>\n",
       "    <tr>\n",
       "      <th>2491</th>\n",
       "      <td>52900</td>\n",
       "      <td>53000</td>\n",
       "      <td>52300</td>\n",
       "      <td>52900</td>\n",
       "      <td>317300</td>\n",
       "    </tr>\n",
       "    <tr>\n",
       "      <th>2492</th>\n",
       "      <td>52900</td>\n",
       "      <td>54800</td>\n",
       "      <td>52100</td>\n",
       "      <td>53400</td>\n",
       "      <td>1844000</td>\n",
       "    </tr>\n",
       "    <tr>\n",
       "      <th>2493</th>\n",
       "      <td>53500</td>\n",
       "      <td>53500</td>\n",
       "      <td>52100</td>\n",
       "      <td>53500</td>\n",
       "      <td>2089000</td>\n",
       "    </tr>\n",
       "    <tr>\n",
       "      <th>2494</th>\n",
       "      <td>53200</td>\n",
       "      <td>54000</td>\n",
       "      <td>52500</td>\n",
       "      <td>53600</td>\n",
       "      <td>2135400</td>\n",
       "    </tr>\n",
       "    <tr>\n",
       "      <th>2495</th>\n",
       "      <td>53800</td>\n",
       "      <td>53900</td>\n",
       "      <td>53000</td>\n",
       "      <td>53800</td>\n",
       "      <td>2461700</td>\n",
       "    </tr>\n",
       "  </tbody>\n",
       "</table>\n",
       "<p>2496 rows × 5 columns</p>\n",
       "</div>"
      ],
      "text/plain": [
       "       open   high    low  close   volume\n",
       "0     16876  17407  16770  16982   106720\n",
       "1     16982  16982  16770  16982   118830\n",
       "2     16876  17088  16770  16982   162880\n",
       "3     17088  17831  17088  17725   370650\n",
       "4     17937  18044  17725  17937   363210\n",
       "...     ...    ...    ...    ...      ...\n",
       "2491  52900  53000  52300  52900   317300\n",
       "2492  52900  54800  52100  53400  1844000\n",
       "2493  53500  53500  52100  53500  2089000\n",
       "2494  53200  54000  52500  53600  2135400\n",
       "2495  53800  53900  53000  53800  2461700\n",
       "\n",
       "[2496 rows x 5 columns]"
      ]
     },
     "execution_count": 7,
     "metadata": {},
     "output_type": "execute_result"
    }
   ],
   "source": [
    "train_data.select(\"open\", \"high\", \"low\", \"close\", \"volume\").toPandas()"
   ]
  },
  {
   "cell_type": "code",
   "execution_count": 27,
   "metadata": {},
   "outputs": [],
   "source": [
    "data = train_data.select(\"open\", \"high\", \"low\", \"close\", \"volume\").toPandas().values"
   ]
  },
  {
   "cell_type": "code",
   "execution_count": 73,
   "metadata": {},
   "outputs": [],
   "source": [
    "scaler = MinMaxScaler(feature_range = (0, 1))\n",
    "training_set_scaled = scaler.fit_transform(data)"
   ]
  },
  {
   "cell_type": "code",
   "execution_count": 75,
   "metadata": {},
   "outputs": [],
   "source": [
    "X=[]\n",
    "y=[]\n",
    "no_of_sample = len(training_set_scaled)\n",
    "\n",
    "for i in range(60, no_of_sample):\n",
    "    X.append(training_set_scaled[i-60:i])\n",
    "    y.append(training_set_scaled[i][3])\n",
    "\n",
    "X, y = np.array(X), np.array(y)\n",
    "\n",
    "# X = np.reshape(X, (X.shape[0], X.shape[1], 1))"
   ]
  },
  {
   "cell_type": "code",
   "execution_count": 76,
   "metadata": {},
   "outputs": [
    {
     "data": {
      "text/plain": [
       "(2436, 60, 5)"
      ]
     },
     "execution_count": 76,
     "metadata": {},
     "output_type": "execute_result"
    }
   ],
   "source": [
    "X.shape"
   ]
  },
  {
   "cell_type": "code",
   "execution_count": 48,
   "metadata": {},
   "outputs": [
    {
     "data": {
      "text/plain": [
       "(2436,)"
      ]
     },
     "execution_count": 48,
     "metadata": {},
     "output_type": "execute_result"
    }
   ],
   "source": [
    "y.shape"
   ]
  },
  {
   "cell_type": "code",
   "execution_count": 15,
   "metadata": {},
   "outputs": [],
   "source": [
    "training_set = train_data.select(\"close\").toPandas().values\n",
    "# Thuc hien scale du lieu gia ve khoang 0,1\n",
    "scaler = MinMaxScaler(feature_range = (0, 1))\n",
    "training_set_scaled = scaler.fit_transform(training_set)"
   ]
  },
  {
   "cell_type": "code",
   "execution_count": 22,
   "metadata": {},
   "outputs": [],
   "source": [
    "X_train, y_train = pre_process(training_set, training_set_scaled)"
   ]
  },
  {
   "cell_type": "code",
   "execution_count": 45,
   "metadata": {},
   "outputs": [],
   "source": [
    "test_set = test_data.select(\"close\").toPandas().values\n",
    "test_set_scaled = scaler.transform(test_set)\n",
    "\n",
    "X_val, y_val = pre_process(test_set, test_set_scaled)"
   ]
  },
  {
   "cell_type": "code",
   "execution_count": 46,
   "metadata": {},
   "outputs": [],
   "source": [
    "# test_set = test_data.select(\"close\").toPandas().values\n",
    "# a = training_set[len(training_set)-60:]\n",
    "# dataset_test = np.concatenate((a, test_set), axis=0)\n",
    "# # Thuc hien scale du lieu gia ve khoang 0,1\n",
    "# test_set_scaled = scaler.transform(dataset_test)"
   ]
  },
  {
   "cell_type": "code",
   "execution_count": 47,
   "metadata": {},
   "outputs": [],
   "source": [
    "# X_val, y_val = pre_process(dataset_test, test_set_scaled)"
   ]
  },
  {
   "cell_type": "code",
   "execution_count": 48,
   "metadata": {},
   "outputs": [
    {
     "data": {
      "text/plain": [
       "189"
      ]
     },
     "execution_count": 48,
     "metadata": {},
     "output_type": "execute_result"
    }
   ],
   "source": [
    "len(y_val)"
   ]
  },
  {
   "cell_type": "code",
   "execution_count": 77,
   "metadata": {},
   "outputs": [],
   "source": [
    "def init_model():\n",
    "    model = Sequential([\n",
    "        Conv1D(filters=64, kernel_size=3, activation='relu', input_shape=(60, 5)),\n",
    "        Conv1D(filters=64, kernel_size=3, activation='relu'),\n",
    "        Flatten(),\n",
    "        Dense(1)  # Output layer, có thể điều chỉnh theo yêu cầu\n",
    "    ])\n",
    "    model.compile(optimizer='adam', loss='mean_squared_error')\n",
    "    return model"
   ]
  },
  {
   "cell_type": "code",
   "execution_count": 93,
   "metadata": {},
   "outputs": [
    {
     "name": "stdout",
     "output_type": "stream",
     "text": [
      "Epoch 1/100\n",
      "77/77 [==============================] - 1s 4ms/step - loss: 0.0157 - val_loss: 0.0019\n",
      "Epoch 2/100\n",
      "77/77 [==============================] - 0s 3ms/step - loss: 0.0018 - val_loss: 0.0025\n",
      "Epoch 3/100\n",
      "77/77 [==============================] - 0s 3ms/step - loss: 0.0014 - val_loss: 0.0030\n",
      "Epoch 4/100\n",
      "77/77 [==============================] - 0s 3ms/step - loss: 0.0012 - val_loss: 0.0048\n",
      "Epoch 5/100\n",
      "77/77 [==============================] - 0s 3ms/step - loss: 9.4834e-04 - val_loss: 0.0063\n",
      "Epoch 6/100\n",
      "77/77 [==============================] - 0s 3ms/step - loss: 8.4577e-04 - val_loss: 0.0061\n",
      "Epoch 7/100\n",
      "77/77 [==============================] - 0s 3ms/step - loss: 8.6074e-04 - val_loss: 0.0050\n",
      "Epoch 8/100\n",
      "77/77 [==============================] - 0s 3ms/step - loss: 8.3913e-04 - val_loss: 0.0046\n",
      "Epoch 9/100\n",
      "77/77 [==============================] - 0s 3ms/step - loss: 7.4573e-04 - val_loss: 0.0052\n",
      "Epoch 10/100\n",
      "77/77 [==============================] - 0s 3ms/step - loss: 5.4817e-04 - val_loss: 0.0037\n",
      "Epoch 11/100\n",
      "77/77 [==============================] - 0s 3ms/step - loss: 4.7135e-04 - val_loss: 0.0033\n",
      "Epoch 12/100\n",
      "77/77 [==============================] - 0s 3ms/step - loss: 4.4292e-04 - val_loss: 0.0049\n",
      "Epoch 13/100\n",
      "77/77 [==============================] - 0s 4ms/step - loss: 3.6913e-04 - val_loss: 0.0046\n",
      "Epoch 14/100\n",
      "77/77 [==============================] - 0s 3ms/step - loss: 3.2997e-04 - val_loss: 0.0041\n",
      "Epoch 15/100\n",
      "77/77 [==============================] - 0s 3ms/step - loss: 3.0718e-04 - val_loss: 0.0039\n",
      "Epoch 16/100\n",
      "77/77 [==============================] - 0s 3ms/step - loss: 2.8861e-04 - val_loss: 0.0058\n",
      "Epoch 17/100\n",
      "77/77 [==============================] - 0s 4ms/step - loss: 2.7975e-04 - val_loss: 0.0057\n",
      "Epoch 18/100\n",
      "77/77 [==============================] - 0s 4ms/step - loss: 2.4073e-04 - val_loss: 0.0031\n",
      "Epoch 19/100\n",
      "77/77 [==============================] - 0s 4ms/step - loss: 2.6391e-04 - val_loss: 0.0053\n",
      "Epoch 20/100\n",
      "77/77 [==============================] - 0s 4ms/step - loss: 2.1962e-04 - val_loss: 0.0035\n",
      "Epoch 21/100\n",
      "77/77 [==============================] - 0s 4ms/step - loss: 2.0852e-04 - val_loss: 0.0039\n",
      "Epoch 22/100\n",
      "77/77 [==============================] - 0s 4ms/step - loss: 2.7760e-04 - val_loss: 0.0031\n",
      "Epoch 23/100\n",
      "77/77 [==============================] - 0s 5ms/step - loss: 2.6195e-04 - val_loss: 0.0031\n",
      "Epoch 24/100\n",
      "77/77 [==============================] - 0s 4ms/step - loss: 3.5382e-04 - val_loss: 0.0050\n",
      "Epoch 25/100\n",
      "77/77 [==============================] - 0s 4ms/step - loss: 2.6699e-04 - val_loss: 0.0029\n",
      "Epoch 26/100\n",
      "77/77 [==============================] - 0s 4ms/step - loss: 2.3050e-04 - val_loss: 0.0034\n",
      "Epoch 27/100\n",
      "77/77 [==============================] - 0s 4ms/step - loss: 2.2388e-04 - val_loss: 0.0023\n",
      "Epoch 28/100\n",
      "77/77 [==============================] - 0s 4ms/step - loss: 1.9959e-04 - val_loss: 0.0032\n",
      "Epoch 29/100\n",
      "77/77 [==============================] - 0s 5ms/step - loss: 2.7800e-04 - val_loss: 0.0020\n",
      "Epoch 30/100\n",
      "77/77 [==============================] - 0s 4ms/step - loss: 2.1850e-04 - val_loss: 0.0033\n",
      "Epoch 31/100\n",
      "77/77 [==============================] - 0s 4ms/step - loss: 2.1369e-04 - val_loss: 7.3132e-04\n",
      "Epoch 32/100\n",
      "77/77 [==============================] - 0s 4ms/step - loss: 2.5894e-04 - val_loss: 0.0015\n",
      "Epoch 33/100\n",
      "77/77 [==============================] - 0s 4ms/step - loss: 4.0680e-04 - val_loss: 0.0020\n",
      "Epoch 34/100\n",
      "77/77 [==============================] - 0s 4ms/step - loss: 1.8817e-04 - val_loss: 0.0025\n",
      "Epoch 35/100\n",
      "77/77 [==============================] - 0s 4ms/step - loss: 2.0688e-04 - val_loss: 0.0026\n",
      "Epoch 36/100\n",
      "77/77 [==============================] - 0s 4ms/step - loss: 1.6699e-04 - val_loss: 0.0026\n",
      "Epoch 37/100\n",
      "77/77 [==============================] - 0s 3ms/step - loss: 2.8371e-04 - val_loss: 0.0029\n",
      "Epoch 38/100\n",
      "77/77 [==============================] - 0s 4ms/step - loss: 2.4440e-04 - val_loss: 0.0031\n",
      "Epoch 39/100\n",
      "77/77 [==============================] - 0s 4ms/step - loss: 2.0626e-04 - val_loss: 9.8385e-04\n",
      "Epoch 40/100\n",
      "77/77 [==============================] - 0s 4ms/step - loss: 1.9228e-04 - val_loss: 0.0024\n",
      "Epoch 41/100\n",
      "77/77 [==============================] - 0s 4ms/step - loss: 1.7881e-04 - val_loss: 0.0024\n",
      "Epoch 42/100\n",
      "77/77 [==============================] - 0s 4ms/step - loss: 2.2193e-04 - val_loss: 0.0024\n",
      "Epoch 43/100\n",
      "77/77 [==============================] - 0s 4ms/step - loss: 2.2202e-04 - val_loss: 0.0022\n",
      "Epoch 44/100\n",
      "77/77 [==============================] - 0s 4ms/step - loss: 3.8521e-04 - val_loss: 0.0023\n",
      "Epoch 45/100\n",
      "77/77 [==============================] - 0s 4ms/step - loss: 1.8516e-04 - val_loss: 0.0040\n",
      "Epoch 46/100\n",
      "77/77 [==============================] - 0s 4ms/step - loss: 1.9849e-04 - val_loss: 0.0029\n",
      "Epoch 47/100\n",
      "77/77 [==============================] - 0s 4ms/step - loss: 1.6248e-04 - val_loss: 0.0030\n",
      "Epoch 48/100\n",
      "77/77 [==============================] - 0s 4ms/step - loss: 1.8876e-04 - val_loss: 0.0067\n",
      "Epoch 49/100\n",
      "77/77 [==============================] - 0s 4ms/step - loss: 1.8794e-04 - val_loss: 0.0038\n",
      "Epoch 50/100\n",
      "77/77 [==============================] - 0s 4ms/step - loss: 6.5330e-04 - val_loss: 0.0032\n",
      "Epoch 51/100\n",
      "77/77 [==============================] - 0s 4ms/step - loss: 2.9159e-04 - val_loss: 0.0039\n",
      "Epoch 52/100\n",
      "77/77 [==============================] - 0s 4ms/step - loss: 2.0207e-04 - val_loss: 0.0016\n",
      "Epoch 53/100\n",
      "77/77 [==============================] - 0s 4ms/step - loss: 2.2320e-04 - val_loss: 0.0043\n",
      "Epoch 54/100\n",
      "77/77 [==============================] - 0s 4ms/step - loss: 1.9542e-04 - val_loss: 0.0031\n",
      "Epoch 55/100\n",
      "77/77 [==============================] - 0s 4ms/step - loss: 1.6575e-04 - val_loss: 0.0026\n",
      "Epoch 56/100\n",
      "77/77 [==============================] - 0s 4ms/step - loss: 1.6846e-04 - val_loss: 0.0022\n",
      "Epoch 57/100\n",
      "77/77 [==============================] - 0s 4ms/step - loss: 1.8272e-04 - val_loss: 0.0016\n",
      "Epoch 58/100\n",
      "77/77 [==============================] - 0s 4ms/step - loss: 2.0939e-04 - val_loss: 0.0021\n",
      "Epoch 59/100\n",
      "77/77 [==============================] - 0s 4ms/step - loss: 1.7431e-04 - val_loss: 0.0047\n",
      "Epoch 60/100\n",
      "77/77 [==============================] - 0s 4ms/step - loss: 1.9870e-04 - val_loss: 0.0020\n",
      "Epoch 61/100\n",
      "77/77 [==============================] - 0s 4ms/step - loss: 1.7091e-04 - val_loss: 0.0057\n",
      "Epoch 62/100\n",
      "77/77 [==============================] - 0s 4ms/step - loss: 1.5748e-04 - val_loss: 0.0031\n",
      "Epoch 63/100\n",
      "77/77 [==============================] - 0s 4ms/step - loss: 1.7344e-04 - val_loss: 0.0039\n",
      "Epoch 64/100\n",
      "77/77 [==============================] - 0s 4ms/step - loss: 1.6965e-04 - val_loss: 0.0054\n",
      "Epoch 65/100\n",
      "77/77 [==============================] - 0s 3ms/step - loss: 2.6115e-04 - val_loss: 0.0047\n",
      "Epoch 66/100\n",
      "77/77 [==============================] - 0s 4ms/step - loss: 1.8818e-04 - val_loss: 0.0030\n",
      "Epoch 67/100\n",
      "77/77 [==============================] - 0s 4ms/step - loss: 2.0384e-04 - val_loss: 0.0030\n",
      "Epoch 68/100\n",
      "77/77 [==============================] - 0s 3ms/step - loss: 1.4825e-04 - val_loss: 0.0046\n",
      "Epoch 69/100\n",
      "77/77 [==============================] - 0s 3ms/step - loss: 2.1705e-04 - val_loss: 0.0040\n",
      "Epoch 70/100\n",
      "77/77 [==============================] - 0s 3ms/step - loss: 1.6657e-04 - val_loss: 0.0029\n",
      "Epoch 71/100\n",
      "77/77 [==============================] - 0s 4ms/step - loss: 1.9324e-04 - val_loss: 0.0034\n",
      "Epoch 72/100\n",
      "77/77 [==============================] - 0s 4ms/step - loss: 2.1608e-04 - val_loss: 0.0038\n",
      "Epoch 73/100\n",
      "77/77 [==============================] - 0s 4ms/step - loss: 1.3880e-04 - val_loss: 0.0024\n",
      "Epoch 74/100\n",
      "77/77 [==============================] - 0s 4ms/step - loss: 1.3648e-04 - val_loss: 0.0028\n",
      "Epoch 75/100\n",
      "77/77 [==============================] - 0s 4ms/step - loss: 1.8837e-04 - val_loss: 0.0065\n",
      "Epoch 76/100\n",
      "77/77 [==============================] - 0s 3ms/step - loss: 1.6273e-04 - val_loss: 0.0083\n",
      "Epoch 77/100\n",
      "77/77 [==============================] - 0s 4ms/step - loss: 1.6579e-04 - val_loss: 0.0032\n",
      "Epoch 78/100\n",
      "77/77 [==============================] - 0s 4ms/step - loss: 1.6073e-04 - val_loss: 0.0029\n",
      "Epoch 79/100\n",
      "77/77 [==============================] - 0s 4ms/step - loss: 1.8749e-04 - val_loss: 0.0017\n",
      "Epoch 80/100\n",
      "77/77 [==============================] - 0s 4ms/step - loss: 1.7295e-04 - val_loss: 0.0051\n",
      "Epoch 81/100\n",
      "77/77 [==============================] - 0s 4ms/step - loss: 1.5740e-04 - val_loss: 0.0030\n",
      "Epoch 82/100\n",
      "77/77 [==============================] - 0s 4ms/step - loss: 1.5360e-04 - val_loss: 0.0035\n",
      "Epoch 83/100\n",
      "77/77 [==============================] - 0s 3ms/step - loss: 1.6771e-04 - val_loss: 0.0034\n",
      "Epoch 84/100\n",
      "77/77 [==============================] - 0s 4ms/step - loss: 1.5209e-04 - val_loss: 0.0072\n",
      "Epoch 85/100\n",
      "77/77 [==============================] - 0s 4ms/step - loss: 2.6671e-04 - val_loss: 0.0024\n",
      "Epoch 86/100\n",
      "77/77 [==============================] - 0s 3ms/step - loss: 1.5398e-04 - val_loss: 0.0020\n",
      "Epoch 87/100\n",
      "77/77 [==============================] - 0s 3ms/step - loss: 1.6600e-04 - val_loss: 0.0023\n",
      "Epoch 88/100\n",
      "77/77 [==============================] - 0s 3ms/step - loss: 1.5116e-04 - val_loss: 0.0023\n",
      "Epoch 89/100\n",
      "77/77 [==============================] - 0s 4ms/step - loss: 1.5826e-04 - val_loss: 0.0036\n",
      "Epoch 90/100\n",
      "77/77 [==============================] - 0s 3ms/step - loss: 1.8800e-04 - val_loss: 0.0024\n",
      "Epoch 91/100\n",
      "77/77 [==============================] - 0s 3ms/step - loss: 1.8331e-04 - val_loss: 0.0047\n",
      "Epoch 92/100\n",
      "77/77 [==============================] - 0s 3ms/step - loss: 1.3757e-04 - val_loss: 0.0022\n",
      "Epoch 93/100\n",
      "77/77 [==============================] - 0s 4ms/step - loss: 1.9780e-04 - val_loss: 0.0027\n",
      "Epoch 94/100\n",
      "77/77 [==============================] - 0s 3ms/step - loss: 2.2274e-04 - val_loss: 0.0025\n",
      "Epoch 95/100\n",
      "77/77 [==============================] - 0s 4ms/step - loss: 1.3743e-04 - val_loss: 0.0021\n",
      "Epoch 96/100\n",
      "77/77 [==============================] - 0s 3ms/step - loss: 1.2875e-04 - val_loss: 0.0034\n",
      "Epoch 97/100\n",
      "77/77 [==============================] - 0s 4ms/step - loss: 1.4481e-04 - val_loss: 0.0046\n",
      "Epoch 98/100\n",
      "77/77 [==============================] - 0s 4ms/step - loss: 1.4751e-04 - val_loss: 0.0034\n",
      "Epoch 99/100\n",
      "77/77 [==============================] - 0s 4ms/step - loss: 1.5099e-04 - val_loss: 0.0045\n",
      "Epoch 100/100\n",
      "77/77 [==============================] - 0s 4ms/step - loss: 3.0007e-04 - val_loss: 0.0030\n"
     ]
    },
    {
     "data": {
      "text/plain": [
       "<keras.src.callbacks.History at 0x26ef8dc4730>"
      ]
     },
     "execution_count": 93,
     "metadata": {},
     "output_type": "execute_result"
    }
   ],
   "source": [
    "model = init_model()\n",
    "\n",
    "model.fit(X, y, epochs=100, batch_size=32, validation_data=(X_val, y_val))"
   ]
  },
  {
   "cell_type": "code",
   "execution_count": null,
   "metadata": {},
   "outputs": [],
   "source": []
  },
  {
   "cell_type": "code",
   "execution_count": 79,
   "metadata": {},
   "outputs": [],
   "source": [
    "dataval = test_data.select(\"open\", \"high\", \"low\", \"close\", \"volume\").toPandas().values"
   ]
  },
  {
   "cell_type": "code",
   "execution_count": 72,
   "metadata": {},
   "outputs": [
    {
     "data": {
      "text/html": [
       "<div>\n",
       "<style scoped>\n",
       "    .dataframe tbody tr th:only-of-type {\n",
       "        vertical-align: middle;\n",
       "    }\n",
       "\n",
       "    .dataframe tbody tr th {\n",
       "        vertical-align: top;\n",
       "    }\n",
       "\n",
       "    .dataframe thead th {\n",
       "        text-align: right;\n",
       "    }\n",
       "</style>\n",
       "<table border=\"1\" class=\"dataframe\">\n",
       "  <thead>\n",
       "    <tr style=\"text-align: right;\">\n",
       "      <th></th>\n",
       "      <th>open</th>\n",
       "      <th>high</th>\n",
       "      <th>low</th>\n",
       "      <th>close</th>\n",
       "      <th>volume</th>\n",
       "    </tr>\n",
       "  </thead>\n",
       "  <tbody>\n",
       "    <tr>\n",
       "      <th>0</th>\n",
       "      <td>53800</td>\n",
       "      <td>56800</td>\n",
       "      <td>53400</td>\n",
       "      <td>56800</td>\n",
       "      <td>2009300</td>\n",
       "    </tr>\n",
       "    <tr>\n",
       "      <th>1</th>\n",
       "      <td>56900</td>\n",
       "      <td>57100</td>\n",
       "      <td>55900</td>\n",
       "      <td>56000</td>\n",
       "      <td>1928400</td>\n",
       "    </tr>\n",
       "    <tr>\n",
       "      <th>2</th>\n",
       "      <td>56100</td>\n",
       "      <td>56900</td>\n",
       "      <td>55800</td>\n",
       "      <td>56200</td>\n",
       "      <td>1641900</td>\n",
       "    </tr>\n",
       "    <tr>\n",
       "      <th>3</th>\n",
       "      <td>56000</td>\n",
       "      <td>56100</td>\n",
       "      <td>54900</td>\n",
       "      <td>56100</td>\n",
       "      <td>1951000</td>\n",
       "    </tr>\n",
       "    <tr>\n",
       "      <th>4</th>\n",
       "      <td>56200</td>\n",
       "      <td>56200</td>\n",
       "      <td>55000</td>\n",
       "      <td>55000</td>\n",
       "      <td>1204200</td>\n",
       "    </tr>\n",
       "    <tr>\n",
       "      <th>...</th>\n",
       "      <td>...</td>\n",
       "      <td>...</td>\n",
       "      <td>...</td>\n",
       "      <td>...</td>\n",
       "      <td>...</td>\n",
       "    </tr>\n",
       "    <tr>\n",
       "      <th>244</th>\n",
       "      <td>43100</td>\n",
       "      <td>43550</td>\n",
       "      <td>43000</td>\n",
       "      <td>43400</td>\n",
       "      <td>1977500</td>\n",
       "    </tr>\n",
       "    <tr>\n",
       "      <th>245</th>\n",
       "      <td>43400</td>\n",
       "      <td>43750</td>\n",
       "      <td>43350</td>\n",
       "      <td>43550</td>\n",
       "      <td>1763700</td>\n",
       "    </tr>\n",
       "    <tr>\n",
       "      <th>246</th>\n",
       "      <td>43650</td>\n",
       "      <td>43950</td>\n",
       "      <td>43600</td>\n",
       "      <td>43600</td>\n",
       "      <td>1848500</td>\n",
       "    </tr>\n",
       "    <tr>\n",
       "      <th>247</th>\n",
       "      <td>43600</td>\n",
       "      <td>44600</td>\n",
       "      <td>43600</td>\n",
       "      <td>44450</td>\n",
       "      <td>4070700</td>\n",
       "    </tr>\n",
       "    <tr>\n",
       "      <th>248</th>\n",
       "      <td>44650</td>\n",
       "      <td>44850</td>\n",
       "      <td>44450</td>\n",
       "      <td>44600</td>\n",
       "      <td>2168900</td>\n",
       "    </tr>\n",
       "  </tbody>\n",
       "</table>\n",
       "<p>249 rows × 5 columns</p>\n",
       "</div>"
      ],
      "text/plain": [
       "      open   high    low  close   volume\n",
       "0    53800  56800  53400  56800  2009300\n",
       "1    56900  57100  55900  56000  1928400\n",
       "2    56100  56900  55800  56200  1641900\n",
       "3    56000  56100  54900  56100  1951000\n",
       "4    56200  56200  55000  55000  1204200\n",
       "..     ...    ...    ...    ...      ...\n",
       "244  43100  43550  43000  43400  1977500\n",
       "245  43400  43750  43350  43550  1763700\n",
       "246  43650  43950  43600  43600  1848500\n",
       "247  43600  44600  43600  44450  4070700\n",
       "248  44650  44850  44450  44600  2168900\n",
       "\n",
       "[249 rows x 5 columns]"
      ]
     },
     "execution_count": 72,
     "metadata": {},
     "output_type": "execute_result"
    }
   ],
   "source": [
    "test_data.select(\"open\", \"high\", \"low\", \"close\", \"volume\").toPandas()"
   ]
  },
  {
   "cell_type": "code",
   "execution_count": 80,
   "metadata": {},
   "outputs": [],
   "source": [
    "# scaler = MinMaxScaler(feature_range = (0, 1))\n",
    "test_set_scaled = scaler.transform(dataval)"
   ]
  },
  {
   "cell_type": "code",
   "execution_count": 81,
   "metadata": {},
   "outputs": [],
   "source": [
    "X_val=[]\n",
    "y_val=[]\n",
    "no_of_sample = len(test_set_scaled)\n",
    "\n",
    "for i in range(60, no_of_sample):\n",
    "    X_val.append(test_set_scaled[i-60:i])\n",
    "    y_val.append(test_set_scaled[i][3])\n",
    "\n",
    "X_val, y_val = np.array(X_val), np.array(y_val)"
   ]
  },
  {
   "cell_type": "code",
   "execution_count": 94,
   "metadata": {},
   "outputs": [
    {
     "name": "stdout",
     "output_type": "stream",
     "text": [
      "6/6 [==============================] - 0s 1ms/step\n"
     ]
    }
   ],
   "source": [
    "predictions = model.predict(X_val)"
   ]
  },
  {
   "cell_type": "code",
   "execution_count": 95,
   "metadata": {},
   "outputs": [
    {
     "data": {
      "image/png": "[encoded data removed]",
      "text/plain": [
       "<Figure size 640x480 with 1 Axes>"
      ]
     },
     "metadata": {},
     "output_type": "display_data"
    }
   ],
   "source": [
    "import matplotlib.pyplot as plt\n",
    "\n",
    "# Ve bieu do gia that va gia du doan\n",
    "plt.plot(y_val, color = 'red', label = 'Real Stock Price')\n",
    "plt.plot(predictions, color = 'blue', label = 'Predicted Stock Price')\n",
    "plt.title('Stock Price Prediction (TCN model)')\n",
    "plt.xlabel('Time')\n",
    "plt.ylabel('Stock Price')\n",
    "plt.legend()\n",
    "plt.savefig('../static/tcn_result.jpg')\n",
    "plt.show()\n"
   ]
  },
  {
   "cell_type": "code",
   "execution_count": 96,
   "metadata": {},
   "outputs": [
    {
     "name": "stdout",
     "output_type": "stream",
     "text": [
      "77/77 [==============================] - 0s 1ms/step\n"
     ]
    }
   ],
   "source": [
    "predictions = model.predict(X)"
   ]
  },
  {
   "cell_type": "code",
   "execution_count": 97,
   "metadata": {},
   "outputs": [
    {
     "data": {
      "image/png": "[encoded data removed]",
      "text/plain": [
       "<Figure size 640x480 with 1 Axes>"
      ]
     },
     "metadata": {},
     "output_type": "display_data"
    }
   ],
   "source": [
    "import matplotlib.pyplot as plt\n",
    "\n",
    "# Ve bieu do gia that va gia du doan\n",
    "plt.plot(y, color = 'red', label = 'Real Stock Price')\n",
    "plt.plot(predictions, color = 'blue', label = 'Predicted Stock Price')\n",
    "plt.title('Stock Price Prediction (TCN model)')\n",
    "plt.xlabel('Time')\n",
    "plt.ylabel('Stock Price')\n",
    "plt.legend()\n",
    "plt.savefig('../static/tcn_result.jpg')\n",
    "plt.show()"
   ]
  },
  {
   "cell_type": "code",
   "execution_count": null,
   "metadata": {},
   "outputs": [],
   "source": []
  },
  {
   "cell_type": "code",
   "execution_count": 50,
   "metadata": {},
   "outputs": [
    {
     "name": "stdout",
     "output_type": "stream",
     "text": [
      "Epoch 1/100\n"
     ]
    },
    {
     "name": "stdout",
     "output_type": "stream",
     "text": [
      "77/77 [==============================] - 1s 5ms/step - loss: 0.0102 - val_loss: 0.0044\n",
      "Epoch 2/100\n",
      "77/77 [==============================] - 0s 3ms/step - loss: 0.0019 - val_loss: 0.0030\n",
      "Epoch 3/100\n",
      "77/77 [==============================] - 0s 3ms/step - loss: 0.0014 - val_loss: 0.0024\n",
      "Epoch 4/100\n",
      "77/77 [==============================] - 0s 3ms/step - loss: 0.0010 - val_loss: 0.0025\n",
      "Epoch 5/100\n",
      "77/77 [==============================] - 0s 3ms/step - loss: 8.6487e-04 - val_loss: 0.0016\n",
      "Epoch 6/100\n",
      "77/77 [==============================] - 0s 3ms/step - loss: 7.9693e-04 - val_loss: 0.0014\n",
      "Epoch 7/100\n",
      "77/77 [==============================] - 0s 3ms/step - loss: 6.5391e-04 - val_loss: 8.2670e-04\n",
      "Epoch 8/100\n",
      "77/77 [==============================] - 0s 3ms/step - loss: 6.1329e-04 - val_loss: 9.0847e-04\n",
      "Epoch 9/100\n",
      "77/77 [==============================] - 0s 3ms/step - loss: 5.4132e-04 - val_loss: 7.5927e-04\n",
      "Epoch 10/100\n",
      "77/77 [==============================] - 0s 4ms/step - loss: 4.5563e-04 - val_loss: 0.0011\n",
      "Epoch 11/100\n",
      "77/77 [==============================] - 0s 4ms/step - loss: 4.3868e-04 - val_loss: 0.0010\n",
      "Epoch 12/100\n",
      "77/77 [==============================] - 0s 3ms/step - loss: 4.0732e-04 - val_loss: 6.6563e-04\n",
      "Epoch 13/100\n",
      "77/77 [==============================] - 0s 4ms/step - loss: 3.5925e-04 - val_loss: 3.8840e-04\n",
      "Epoch 14/100\n",
      "77/77 [==============================] - 0s 4ms/step - loss: 4.0051e-04 - val_loss: 3.7479e-04\n",
      "Epoch 15/100\n",
      "77/77 [==============================] - 0s 4ms/step - loss: 3.6706e-04 - val_loss: 4.0747e-04\n",
      "Epoch 16/100\n",
      "77/77 [==============================] - 0s 4ms/step - loss: 3.3911e-04 - val_loss: 3.6877e-04\n",
      "Epoch 17/100\n",
      "77/77 [==============================] - 0s 4ms/step - loss: 3.0665e-04 - val_loss: 3.4957e-04\n",
      "Epoch 18/100\n",
      "77/77 [==============================] - 0s 5ms/step - loss: 2.7420e-04 - val_loss: 3.1094e-04\n",
      "Epoch 19/100\n",
      "77/77 [==============================] - 0s 6ms/step - loss: 2.6130e-04 - val_loss: 5.8905e-04\n",
      "Epoch 20/100\n",
      "77/77 [==============================] - 0s 5ms/step - loss: 2.9399e-04 - val_loss: 2.9667e-04\n",
      "Epoch 21/100\n",
      "77/77 [==============================] - 0s 4ms/step - loss: 2.6751e-04 - val_loss: 2.8352e-04\n",
      "Epoch 22/100\n",
      "77/77 [==============================] - 0s 4ms/step - loss: 3.1678e-04 - val_loss: 2.7461e-04\n",
      "Epoch 23/100\n",
      "77/77 [==============================] - 0s 4ms/step - loss: 2.7901e-04 - val_loss: 3.8527e-04\n",
      "Epoch 24/100\n",
      "77/77 [==============================] - 0s 4ms/step - loss: 2.5125e-04 - val_loss: 3.3387e-04\n",
      "Epoch 25/100\n",
      "77/77 [==============================] - 0s 4ms/step - loss: 3.0500e-04 - val_loss: 4.3835e-04\n",
      "Epoch 26/100\n",
      "77/77 [==============================] - 0s 4ms/step - loss: 2.0475e-04 - val_loss: 6.4289e-04\n",
      "Epoch 27/100\n",
      "77/77 [==============================] - 0s 4ms/step - loss: 3.5513e-04 - val_loss: 2.0752e-04\n",
      "Epoch 28/100\n",
      "77/77 [==============================] - 0s 4ms/step - loss: 2.1926e-04 - val_loss: 2.4721e-04\n",
      "Epoch 29/100\n",
      "77/77 [==============================] - 0s 4ms/step - loss: 1.8900e-04 - val_loss: 2.4945e-04\n",
      "Epoch 30/100\n",
      "77/77 [==============================] - 0s 4ms/step - loss: 2.0286e-04 - val_loss: 2.4380e-04\n",
      "Epoch 31/100\n",
      "77/77 [==============================] - 0s 4ms/step - loss: 1.9821e-04 - val_loss: 4.7939e-04\n",
      "Epoch 32/100\n",
      "77/77 [==============================] - 0s 4ms/step - loss: 2.5342e-04 - val_loss: 4.0055e-04\n",
      "Epoch 33/100\n",
      "77/77 [==============================] - 0s 4ms/step - loss: 2.1077e-04 - val_loss: 1.8996e-04\n",
      "Epoch 34/100\n",
      "77/77 [==============================] - 0s 4ms/step - loss: 2.4306e-04 - val_loss: 2.2882e-04\n",
      "Epoch 35/100\n",
      "77/77 [==============================] - 0s 4ms/step - loss: 2.2043e-04 - val_loss: 4.4070e-04\n",
      "Epoch 36/100\n",
      "77/77 [==============================] - 0s 3ms/step - loss: 2.6340e-04 - val_loss: 2.4985e-04\n",
      "Epoch 37/100\n",
      "77/77 [==============================] - 0s 4ms/step - loss: 1.8896e-04 - val_loss: 0.0010\n",
      "Epoch 38/100\n",
      "77/77 [==============================] - 0s 3ms/step - loss: 3.4219e-04 - val_loss: 2.8378e-04\n",
      "Epoch 39/100\n",
      "77/77 [==============================] - 0s 3ms/step - loss: 1.7342e-04 - val_loss: 1.7827e-04\n",
      "Epoch 40/100\n",
      "77/77 [==============================] - 0s 3ms/step - loss: 3.2792e-04 - val_loss: 1.9927e-04\n",
      "Epoch 41/100\n",
      "77/77 [==============================] - 0s 3ms/step - loss: 3.9649e-04 - val_loss: 4.0299e-04\n",
      "Epoch 42/100\n",
      "77/77 [==============================] - 0s 3ms/step - loss: 2.3242e-04 - val_loss: 2.0286e-04\n",
      "Epoch 43/100\n",
      "77/77 [==============================] - 0s 3ms/step - loss: 1.9057e-04 - val_loss: 2.8708e-04\n",
      "Epoch 44/100\n",
      "77/77 [==============================] - 0s 3ms/step - loss: 2.3594e-04 - val_loss: 2.1196e-04\n",
      "Epoch 45/100\n",
      "77/77 [==============================] - 0s 3ms/step - loss: 1.7391e-04 - val_loss: 2.7798e-04\n",
      "Epoch 46/100\n",
      "77/77 [==============================] - 0s 3ms/step - loss: 2.0075e-04 - val_loss: 2.3606e-04\n",
      "Epoch 47/100\n",
      "77/77 [==============================] - 0s 3ms/step - loss: 1.9698e-04 - val_loss: 2.6977e-04\n",
      "Epoch 48/100\n",
      "77/77 [==============================] - 0s 3ms/step - loss: 1.9329e-04 - val_loss: 1.7564e-04\n",
      "Epoch 49/100\n",
      "77/77 [==============================] - 0s 3ms/step - loss: 1.8993e-04 - val_loss: 2.8326e-04\n",
      "Epoch 50/100\n",
      "77/77 [==============================] - 0s 3ms/step - loss: 2.5968e-04 - val_loss: 2.0108e-04\n",
      "Epoch 51/100\n",
      "77/77 [==============================] - 0s 3ms/step - loss: 1.7295e-04 - val_loss: 2.2671e-04\n",
      "Epoch 52/100\n",
      "77/77 [==============================] - 0s 3ms/step - loss: 1.5612e-04 - val_loss: 1.7375e-04\n",
      "Epoch 53/100\n",
      "77/77 [==============================] - 0s 3ms/step - loss: 1.7127e-04 - val_loss: 3.0469e-04\n",
      "Epoch 54/100\n",
      "77/77 [==============================] - 0s 3ms/step - loss: 1.8019e-04 - val_loss: 2.7543e-04\n",
      "Epoch 55/100\n",
      "77/77 [==============================] - 0s 3ms/step - loss: 1.8901e-04 - val_loss: 1.7885e-04\n",
      "Epoch 56/100\n",
      "77/77 [==============================] - 0s 3ms/step - loss: 1.6872e-04 - val_loss: 2.2514e-04\n",
      "Epoch 57/100\n",
      "77/77 [==============================] - 0s 3ms/step - loss: 1.7855e-04 - val_loss: 1.7001e-04\n",
      "Epoch 58/100\n",
      "77/77 [==============================] - 0s 3ms/step - loss: 1.8985e-04 - val_loss: 2.0082e-04\n",
      "Epoch 59/100\n",
      "77/77 [==============================] - 0s 3ms/step - loss: 1.6224e-04 - val_loss: 1.8680e-04\n",
      "Epoch 60/100\n",
      "77/77 [==============================] - 0s 3ms/step - loss: 2.3685e-04 - val_loss: 5.8138e-04\n",
      "Epoch 61/100\n",
      "77/77 [==============================] - 0s 3ms/step - loss: 3.3564e-04 - val_loss: 2.3009e-04\n",
      "Epoch 62/100\n",
      "77/77 [==============================] - 0s 3ms/step - loss: 2.0012e-04 - val_loss: 1.6092e-04\n",
      "Epoch 63/100\n",
      "77/77 [==============================] - 0s 3ms/step - loss: 2.0440e-04 - val_loss: 4.1722e-04\n",
      "Epoch 64/100\n",
      "77/77 [==============================] - 0s 3ms/step - loss: 1.6269e-04 - val_loss: 1.3449e-04\n",
      "Epoch 65/100\n",
      "77/77 [==============================] - 0s 3ms/step - loss: 1.5565e-04 - val_loss: 1.8811e-04\n",
      "Epoch 66/100\n",
      "77/77 [==============================] - 0s 3ms/step - loss: 1.6693e-04 - val_loss: 1.5624e-04\n",
      "Epoch 67/100\n",
      "77/77 [==============================] - 0s 3ms/step - loss: 1.6341e-04 - val_loss: 1.7013e-04\n",
      "Epoch 68/100\n",
      "77/77 [==============================] - 0s 3ms/step - loss: 1.8069e-04 - val_loss: 4.7769e-04\n",
      "Epoch 69/100\n",
      "77/77 [==============================] - 0s 3ms/step - loss: 2.1987e-04 - val_loss: 2.5630e-04\n",
      "Epoch 70/100\n",
      "77/77 [==============================] - 0s 3ms/step - loss: 2.4623e-04 - val_loss: 1.5605e-04\n",
      "Epoch 71/100\n",
      "77/77 [==============================] - 0s 3ms/step - loss: 1.8627e-04 - val_loss: 2.0977e-04\n",
      "Epoch 72/100\n",
      "77/77 [==============================] - 0s 3ms/step - loss: 2.0094e-04 - val_loss: 3.9192e-04\n",
      "Epoch 73/100\n",
      "77/77 [==============================] - 0s 3ms/step - loss: 1.7090e-04 - val_loss: 1.4937e-04\n",
      "Epoch 74/100\n",
      "77/77 [==============================] - 0s 3ms/step - loss: 2.4658e-04 - val_loss: 1.7589e-04\n",
      "Epoch 75/100\n",
      "77/77 [==============================] - 0s 3ms/step - loss: 2.2268e-04 - val_loss: 3.4746e-04\n",
      "Epoch 76/100\n",
      "77/77 [==============================] - 0s 3ms/step - loss: 1.7529e-04 - val_loss: 1.3823e-04\n",
      "Epoch 77/100\n",
      "77/77 [==============================] - 0s 3ms/step - loss: 1.7504e-04 - val_loss: 1.4925e-04\n",
      "Epoch 78/100\n",
      "77/77 [==============================] - 0s 3ms/step - loss: 1.9309e-04 - val_loss: 1.7388e-04\n",
      "Epoch 79/100\n",
      "77/77 [==============================] - 0s 3ms/step - loss: 1.7349e-04 - val_loss: 2.0857e-04\n",
      "Epoch 80/100\n",
      "77/77 [==============================] - 0s 3ms/step - loss: 1.6412e-04 - val_loss: 2.0651e-04\n",
      "Epoch 81/100\n",
      "77/77 [==============================] - 0s 3ms/step - loss: 1.4818e-04 - val_loss: 1.9858e-04\n",
      "Epoch 82/100\n",
      "77/77 [==============================] - 0s 3ms/step - loss: 1.4995e-04 - val_loss: 1.6958e-04\n",
      "Epoch 83/100\n",
      "77/77 [==============================] - 0s 3ms/step - loss: 1.5691e-04 - val_loss: 5.3854e-04\n",
      "Epoch 84/100\n",
      "77/77 [==============================] - 0s 3ms/step - loss: 1.6238e-04 - val_loss: 1.3638e-04\n",
      "Epoch 85/100\n",
      "77/77 [==============================] - 0s 3ms/step - loss: 2.1586e-04 - val_loss: 1.5897e-04\n",
      "Epoch 86/100\n",
      "77/77 [==============================] - 0s 3ms/step - loss: 2.0695e-04 - val_loss: 2.0620e-04\n",
      "Epoch 87/100\n",
      "77/77 [==============================] - 0s 3ms/step - loss: 1.6120e-04 - val_loss: 1.5117e-04\n",
      "Epoch 88/100\n",
      "77/77 [==============================] - 0s 4ms/step - loss: 1.4364e-04 - val_loss: 2.4769e-04\n",
      "Epoch 89/100\n",
      "77/77 [==============================] - 0s 4ms/step - loss: 1.9884e-04 - val_loss: 4.0348e-04\n",
      "Epoch 90/100\n",
      "77/77 [==============================] - 0s 3ms/step - loss: 1.8658e-04 - val_loss: 2.9703e-04\n",
      "Epoch 91/100\n",
      "77/77 [==============================] - 0s 3ms/step - loss: 1.5949e-04 - val_loss: 2.4968e-04\n",
      "Epoch 92/100\n",
      "77/77 [==============================] - 0s 3ms/step - loss: 1.8061e-04 - val_loss: 4.5464e-04\n",
      "Epoch 93/100\n",
      "77/77 [==============================] - 0s 3ms/step - loss: 2.7847e-04 - val_loss: 1.7152e-04\n",
      "Epoch 94/100\n",
      "77/77 [==============================] - 0s 3ms/step - loss: 1.3240e-04 - val_loss: 1.8412e-04\n",
      "Epoch 95/100\n",
      "77/77 [==============================] - 0s 3ms/step - loss: 1.6851e-04 - val_loss: 4.5395e-04\n",
      "Epoch 96/100\n",
      "77/77 [==============================] - 0s 2ms/step - loss: 2.0774e-04 - val_loss: 2.5870e-04\n",
      "Epoch 97/100\n",
      "77/77 [==============================] - 0s 3ms/step - loss: 1.3789e-04 - val_loss: 2.0959e-04\n",
      "Epoch 98/100\n",
      "77/77 [==============================] - 0s 3ms/step - loss: 1.5501e-04 - val_loss: 1.6555e-04\n",
      "Epoch 99/100\n",
      "77/77 [==============================] - 0s 3ms/step - loss: 1.4901e-04 - val_loss: 2.4112e-04\n",
      "Epoch 100/100\n",
      "77/77 [==============================] - 0s 3ms/step - loss: 1.4546e-04 - val_loss: 1.4476e-04\n"
     ]
    },
    {
     "data": {
      "text/plain": [
       "<keras.src.callbacks.History at 0x2a07f9091e0>"
      ]
     },
     "execution_count": 50,
     "metadata": {},
     "output_type": "execute_result"
    }
   ],
   "source": [
    "model = init_model()\n",
    "\n",
    "model.fit(X_train, y_train, epochs=100, batch_size=32, validation_data=(X_val, y_val))"
   ]
  },
  {
   "cell_type": "code",
   "execution_count": 51,
   "metadata": {},
   "outputs": [
    {
     "name": "stderr",
     "output_type": "stream",
     "text": [
      "c:\\Users\\admin\\AppData\\Local\\Programs\\Python\\Python310\\lib\\site-packages\\keras\\src\\engine\\training.py:3103: UserWarning: You are saving your model as an HDF5 file via `model.save()`. This file format is considered legacy. We recommend using instead the native Keras format, e.g. `model.save('my_model.keras')`.\n",
      "  saving_api.save_model(\n"
     ]
    }
   ],
   "source": [
    "model.save(\"../model/TCN_model.h5\")"
   ]
  },
  {
   "cell_type": "code",
   "execution_count": 52,
   "metadata": {},
   "outputs": [
    {
     "name": "stdout",
     "output_type": "stream",
     "text": [
      "6/6 [==============================] - 0s 1ms/step\n"
     ]
    }
   ],
   "source": [
    "predictions = model.predict(X_val)"
   ]
  },
  {
   "cell_type": "code",
   "execution_count": 53,
   "metadata": {},
   "outputs": [
    {
     "data": {
      "image/png": "[encoded data removed]",
      "text/plain": [
       "<Figure size 640x480 with 1 Axes>"
      ]
     },
     "metadata": {},
     "output_type": "display_data"
    }
   ],
   "source": [
    "import matplotlib.pyplot as plt\n",
    "\n",
    "# Ve bieu do gia that va gia du doan\n",
    "plt.plot(y_val, color = 'red', label = 'Real Stock Price')\n",
    "plt.plot(predictions, color = 'blue', label = 'Predicted Stock Price')\n",
    "plt.title('Stock Price Prediction (TCN model)')\n",
    "plt.xlabel('Time')\n",
    "plt.ylabel('Stock Price')\n",
    "plt.legend()\n",
    "plt.savefig('../static/tcn_result.jpg')\n",
    "plt.show()\n"
   ]
  },
  {
   "cell_type": "code",
   "execution_count": null,
   "metadata": {},
   "outputs": [],
   "source": []
  },
  {
   "cell_type": "code",
   "execution_count": null,
   "metadata": {},
   "outputs": [],
   "source": []
  },
  {
   "cell_type": "code",
   "execution_count": null,
   "metadata": {},
   "outputs": [],
   "source": []
  }
 ],
 "metadata": {
  "kernelspec": {
   "display_name": "Python 3",
   "language": "python",
   "name": "python3"
  },
  "language_info": {
   "codemirror_mode": {
    "name": "ipython",
    "version": 3
   },
   "file_extension": ".py",
   "mimetype": "text/x-python",
   "name": "python",
   "nbconvert_exporter": "python",
   "pygments_lexer": "ipython3",
   "version": "3.10.11"
  }
 },
 "nbformat": 4,
 "nbformat_minor": 2
}
